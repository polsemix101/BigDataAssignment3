{
 "cells": [
  {
   "cell_type": "code",
   "execution_count": 1,
   "metadata": {},
   "outputs": [],
   "source": [
    "import numpy as np\n",
    "import random\n",
    "from pyspark.sql import SparkSession\n",
    "from pyspark.ml.feature import StringIndexer, VectorIndexer\n",
    "from pyspark.ml.classification import LogisticRegression\n",
    "from pyspark.ml.classification import DecisionTreeClassifier\n",
    "from pyspark.ml.feature import VectorAssembler\n",
    "from pyspark.ml.evaluation import MulticlassClassificationEvaluator"
   ]
  },
  {
   "cell_type": "code",
   "execution_count": 2,
   "metadata": {},
   "outputs": [],
   "source": [
    "#Create spark session\n",
    "spark = SparkSession.builder.getOrCreate()"
   ]
  },
  {
   "cell_type": "code",
   "execution_count": 3,
   "metadata": {},
   "outputs": [],
   "source": [
    "#load data\n",
    "data = spark.read.csv(\"./kdd.data.txt\",inferSchema=True)"
   ]
  },
  {
   "cell_type": "code",
   "execution_count": 4,
   "metadata": {},
   "outputs": [
    {
     "name": "stdout",
     "output_type": "stream",
     "text": [
      "+---+---+---+---+---+---+---+---+---+---+----+----+----+----+----+----+----+----+----+----+----+----+----+----+----+----+----+----+----+----+----+----+----+----+----+----+----+----+----+----+----+-------+\n",
      "|_c0|_c1|_c2|_c3|_c4|_c5|_c6|_c7|_c8|_c9|_c10|_c11|_c12|_c13|_c14|_c15|_c16|_c17|_c18|_c19|_c20|_c21|_c22|_c23|_c24|_c25|_c26|_c27|_c28|_c29|_c30|_c31|_c32|_c33|_c34|_c35|_c36|_c37|_c38|_c39|_c40|   _c41|\n",
      "+---+---+---+---+---+---+---+---+---+---+----+----+----+----+----+----+----+----+----+----+----+----+----+----+----+----+----+----+----+----+----+----+----+----+----+----+----+----+----+----+----+-------+\n",
      "|  0|  0| 17|  9|491|  0|  0|  0|  0|  0|   0|   0|   0|   0|   0|   0|   0|   0|   0|   0|   0|   0|   2|   2| 0.0| 0.0| 0.0| 0.0| 1.0| 0.0| 0.0| 150|  25|0.17|0.03|0.17| 0.0| 0.0| 0.0|0.05| 0.0| normal|\n",
      "|  0|  1| 42|  9|146|  0|  0|  0|  0|  0|   0|   0|   0|   0|   0|   0|   0|   0|   0|   0|   0|   0|  13|   1| 0.0| 0.0| 0.0| 0.0|0.08|0.15| 0.0| 255|   1| 0.0| 0.6|0.88| 0.0| 0.0| 0.0| 0.0| 0.0| normal|\n",
      "|  0|  0| 47|  5|  0|  0|  0|  0|  0|  0|   0|   0|   0|   0|   0|   0|   0|   0|   0|   0|   0|   0| 123|   6| 1.0| 1.0| 0.0| 0.0|0.05|0.07| 0.0| 255|  26| 0.1|0.05| 0.0| 0.0| 1.0| 1.0| 0.0| 0.0|anomaly|\n",
      "+---+---+---+---+---+---+---+---+---+---+----+----+----+----+----+----+----+----+----+----+----+----+----+----+----+----+----+----+----+----+----+----+----+----+----+----+----+----+----+----+----+-------+\n",
      "only showing top 3 rows\n",
      "\n"
     ]
    }
   ],
   "source": [
    "data.show(3)"
   ]
  },
  {
   "cell_type": "code",
   "execution_count": 5,
   "metadata": {},
   "outputs": [],
   "source": [
    "#make list with features\n",
    "features = np.char.add(np.repeat(\"_c\",41).astype(str),(np.arange(0,41).astype(str)))\n",
    "label = \"_c41\""
   ]
  },
  {
   "cell_type": "code",
   "execution_count": 6,
   "metadata": {},
   "outputs": [],
   "source": [
    "#transform label from normal/anomaly into 0/1\n",
    "indexer = StringIndexer(inputCol=label,outputCol=\"label\")\n",
    "indexed = indexer.fit(data).transform(data)"
   ]
  },
  {
   "cell_type": "code",
   "execution_count": 7,
   "metadata": {},
   "outputs": [],
   "source": [
    "#gather all features into one column\n",
    "assembler = VectorAssembler(inputCols=features,outputCol=\"features\")"
   ]
  },
  {
   "cell_type": "code",
   "execution_count": 8,
   "metadata": {},
   "outputs": [],
   "source": [
    "dataTransform = assembler.transform(indexed)"
   ]
  },
  {
   "cell_type": "code",
   "execution_count": 9,
   "metadata": {},
   "outputs": [
    {
     "name": "stdout",
     "output_type": "stream",
     "text": [
      "+---+---+---+---+---+---+---+---+---+---+----+----+----+----+----+----+----+----+----+----+----+----+----+----+----+----+----+----+----+----+----+----+----+----+----+----+----+----+----+----+----+-------+-----+--------------------+\n",
      "|_c0|_c1|_c2|_c3|_c4|_c5|_c6|_c7|_c8|_c9|_c10|_c11|_c12|_c13|_c14|_c15|_c16|_c17|_c18|_c19|_c20|_c21|_c22|_c23|_c24|_c25|_c26|_c27|_c28|_c29|_c30|_c31|_c32|_c33|_c34|_c35|_c36|_c37|_c38|_c39|_c40|   _c41|label|            features|\n",
      "+---+---+---+---+---+---+---+---+---+---+----+----+----+----+----+----+----+----+----+----+----+----+----+----+----+----+----+----+----+----+----+----+----+----+----+----+----+----+----+----+----+-------+-----+--------------------+\n",
      "|  0|  0| 17|  9|491|  0|  0|  0|  0|  0|   0|   0|   0|   0|   0|   0|   0|   0|   0|   0|   0|   0|   2|   2| 0.0| 0.0| 0.0| 0.0| 1.0| 0.0| 0.0| 150|  25|0.17|0.03|0.17| 0.0| 0.0| 0.0|0.05| 0.0| normal|  1.0|(41,[2,3,4,22,23,...|\n",
      "|  0|  1| 42|  9|146|  0|  0|  0|  0|  0|   0|   0|   0|   0|   0|   0|   0|   0|   0|   0|   0|   0|  13|   1| 0.0| 0.0| 0.0| 0.0|0.08|0.15| 0.0| 255|   1| 0.0| 0.6|0.88| 0.0| 0.0| 0.0| 0.0| 0.0| normal|  1.0|(41,[1,2,3,4,22,2...|\n",
      "|  0|  0| 47|  5|  0|  0|  0|  0|  0|  0|   0|   0|   0|   0|   0|   0|   0|   0|   0|   0|   0|   0| 123|   6| 1.0| 1.0| 0.0| 0.0|0.05|0.07| 0.0| 255|  26| 0.1|0.05| 0.0| 0.0| 1.0| 1.0| 0.0| 0.0|anomaly|  0.0|(41,[2,3,22,23,24...|\n",
      "+---+---+---+---+---+---+---+---+---+---+----+----+----+----+----+----+----+----+----+----+----+----+----+----+----+----+----+----+----+----+----+----+----+----+----+----+----+----+----+----+----+-------+-----+--------------------+\n",
      "only showing top 3 rows\n",
      "\n"
     ]
    }
   ],
   "source": [
    "dataTransform.show(3)"
   ]
  },
  {
   "cell_type": "code",
   "execution_count": 10,
   "metadata": {},
   "outputs": [
    {
     "name": "stdout",
     "output_type": "stream",
     "text": [
      "For DT the accuracies were: min=0.945, max=0.957, mean=0.948, std=0.003\n"
     ]
    }
   ],
   "source": [
    "#Decision Tree\n",
    "iterations = 10\n",
    "accuraciesDT = np.array([])\n",
    "for i in range(iterations):\n",
    "    random.seed(i)\n",
    "    dt = DecisionTreeClassifier(labelCol=\"label\",featuresCol=\"features\")\n",
    "\n",
    "    (trainingData, testData) = dataTransform.randomSplit([0.7, 0.3])\n",
    "\n",
    "    model = dt.fit(trainingData)\n",
    "\n",
    "    pred = model.transform(testData)\n",
    "\n",
    "    evaluator = MulticlassClassificationEvaluator(labelCol=\"label\", predictionCol=\"prediction\", metricName=\"accuracy\")\n",
    "\n",
    "    accuracy = evaluator.evaluate(pred)\n",
    "    accuraciesDT = np.append(accuraciesDT,accuracy)\n",
    "\n",
    "minDT = np.min(accuraciesDT)\n",
    "maxDT = np.max(accuraciesDT)\n",
    "meanDT = np.mean(accuraciesDT)\n",
    "stdDT = np.std(accuraciesDT)\n",
    "print(\"For DT the accuracies were: min=%.3f, max=%.3f, mean=%.3f, std=%.3f\" % (minDT, maxDT, meanDT,stdDT))"
   ]
  },
  {
   "cell_type": "code",
   "execution_count": 11,
   "metadata": {},
   "outputs": [
    {
     "name": "stdout",
     "output_type": "stream",
     "text": [
      "For LR the accuracies were: min=0.885, max=0.891, mean=0.888, std=0.001\n"
     ]
    }
   ],
   "source": [
    "#Logistic Regression\n",
    "iterations = 10\n",
    "accuraciesLR = np.array([])\n",
    "for i in range(iterations):\n",
    "    random.seed(i)\n",
    "    lr = LogisticRegression(labelCol=\"label\",featuresCol=\"features\")\n",
    "\n",
    "    (trainingData, testData) = dataTransform.randomSplit([0.7,0.3])\n",
    "\n",
    "    model = lr.fit(trainingData)\n",
    "\n",
    "    pred = model.transform(testData)\n",
    "\n",
    "    evaluator = MulticlassClassificationEvaluator(labelCol=\"label\", predictionCol=\"prediction\", metricName=\"accuracy\")\n",
    "\n",
    "    accuracy = evaluator.evaluate(pred)\n",
    "    accuraciesLR = np.append(accuraciesLR,accuracy)\n",
    "\n",
    "minLR = np.min(accuraciesLR)\n",
    "maxLR = np.max(accuraciesLR)\n",
    "meanLR = np.mean(accuraciesLR)\n",
    "stdLR = np.std(accuraciesLR)\n",
    "print(\"For LR the accuracies were: min=%.3f, max=%.3f, mean=%.3f, std=%.3f\" % (minLR, maxLR, meanLR,stdLR))"
   ]
  }
 ],
 "metadata": {
  "kernelspec": {
   "display_name": "Python 3",
   "language": "python",
   "name": "python3"
  },
  "language_info": {
   "codemirror_mode": {
    "name": "ipython",
    "version": 3
   },
   "file_extension": ".py",
   "mimetype": "text/x-python",
   "name": "python",
   "nbconvert_exporter": "python",
   "pygments_lexer": "ipython3",
   "version": "3.9.13"
  }
 },
 "nbformat": 4,
 "nbformat_minor": 2
}
